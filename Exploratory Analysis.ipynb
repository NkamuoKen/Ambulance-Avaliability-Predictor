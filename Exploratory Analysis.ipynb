{
 "cells": [
  {
   "cell_type": "markdown",
   "id": "0f51a731",
   "metadata": {},
   "source": [
    "# Exploratory Analysis"
   ]
  },
  {
   "cell_type": "code",
   "execution_count": 58,
   "id": "41dfa581",
   "metadata": {},
   "outputs": [],
   "source": [
    "import pandas as pd"
   ]
  },
  {
   "cell_type": "code",
   "execution_count": 59,
   "id": "9edddd65",
   "metadata": {},
   "outputs": [],
   "source": [
    "data = pd.read_csv('facility_dataset.csv')"
   ]
  },
  {
   "cell_type": "code",
   "execution_count": 60,
   "id": "347c0a50",
   "metadata": {},
   "outputs": [
    {
     "data": {
      "text/html": [
       "<div>\n",
       "<style scoped>\n",
       "    .dataframe tbody tr th:only-of-type {\n",
       "        vertical-align: middle;\n",
       "    }\n",
       "\n",
       "    .dataframe tbody tr th {\n",
       "        vertical-align: top;\n",
       "    }\n",
       "\n",
       "    .dataframe thead th {\n",
       "        text-align: right;\n",
       "    }\n",
       "</style>\n",
       "<table border=\"1\" class=\"dataframe\">\n",
       "  <thead>\n",
       "    <tr style=\"text-align: right;\">\n",
       "      <th></th>\n",
       "      <th>start_date</th>\n",
       "      <th>facility_name</th>\n",
       "      <th>state</th>\n",
       "      <th>lga</th>\n",
       "      <th>ward</th>\n",
       "      <th>ownership</th>\n",
       "      <th>ownership_type</th>\n",
       "      <th>facility_level</th>\n",
       "      <th>facility_level_option</th>\n",
       "      <th>physical_location</th>\n",
       "      <th>...</th>\n",
       "      <th>jun_community_extension_worker</th>\n",
       "      <th>dental_technicians</th>\n",
       "      <th>env_health_officers</th>\n",
       "      <th>inpatient</th>\n",
       "      <th>outpatient</th>\n",
       "      <th>beds</th>\n",
       "      <th>onsite_laboratory</th>\n",
       "      <th>onsite_pharmarcy</th>\n",
       "      <th>attendants</th>\n",
       "      <th>ambulance_services</th>\n",
       "    </tr>\n",
       "  </thead>\n",
       "  <tbody>\n",
       "    <tr>\n",
       "      <th>0</th>\n",
       "      <td>2003-05-10</td>\n",
       "      <td>Aba Holy Wounds Hospital</td>\n",
       "      <td>Abia</td>\n",
       "      <td>Aba North</td>\n",
       "      <td>Ariaria</td>\n",
       "      <td>Private</td>\n",
       "      <td>For Profit</td>\n",
       "      <td>Secondary</td>\n",
       "      <td>General Hospital</td>\n",
       "      <td>Aba North, Abia</td>\n",
       "      <td>...</td>\n",
       "      <td>1</td>\n",
       "      <td>0</td>\n",
       "      <td>0</td>\n",
       "      <td>Yes</td>\n",
       "      <td>Yes</td>\n",
       "      <td>14</td>\n",
       "      <td>Yes</td>\n",
       "      <td>Yes</td>\n",
       "      <td>0</td>\n",
       "      <td>Yes</td>\n",
       "    </tr>\n",
       "    <tr>\n",
       "      <th>1</th>\n",
       "      <td>2000-01-01</td>\n",
       "      <td>Chidima Hospital</td>\n",
       "      <td>Abia</td>\n",
       "      <td>Aba North</td>\n",
       "      <td>Ariaria</td>\n",
       "      <td>Private</td>\n",
       "      <td>For Profit</td>\n",
       "      <td>Primary</td>\n",
       "      <td>Primary Health Clinic</td>\n",
       "      <td>Aba North, Abia</td>\n",
       "      <td>...</td>\n",
       "      <td>1</td>\n",
       "      <td>0</td>\n",
       "      <td>0</td>\n",
       "      <td>Yes</td>\n",
       "      <td>Yes</td>\n",
       "      <td>5</td>\n",
       "      <td>No</td>\n",
       "      <td>Yes</td>\n",
       "      <td>2</td>\n",
       "      <td>No</td>\n",
       "    </tr>\n",
       "    <tr>\n",
       "      <th>2</th>\n",
       "      <td>2008-03-12</td>\n",
       "      <td>Euna Hospital</td>\n",
       "      <td>Abia</td>\n",
       "      <td>Aba North</td>\n",
       "      <td>Ariaria</td>\n",
       "      <td>Private</td>\n",
       "      <td>For Profit</td>\n",
       "      <td>Secondary</td>\n",
       "      <td>General Hospital</td>\n",
       "      <td>Aba North, Abia</td>\n",
       "      <td>...</td>\n",
       "      <td>0</td>\n",
       "      <td>0</td>\n",
       "      <td>0</td>\n",
       "      <td>Yes</td>\n",
       "      <td>Yes</td>\n",
       "      <td>17</td>\n",
       "      <td>Yes</td>\n",
       "      <td>Yes</td>\n",
       "      <td>0</td>\n",
       "      <td>No</td>\n",
       "    </tr>\n",
       "    <tr>\n",
       "      <th>3</th>\n",
       "      <td>2009-06-02</td>\n",
       "      <td>Goodness &amp; Mercy hospital</td>\n",
       "      <td>Abia</td>\n",
       "      <td>Aba North</td>\n",
       "      <td>Ariaria</td>\n",
       "      <td>Private</td>\n",
       "      <td>For Profit</td>\n",
       "      <td>Secondary</td>\n",
       "      <td>General Hospital</td>\n",
       "      <td>Aba North, Abia</td>\n",
       "      <td>...</td>\n",
       "      <td>0</td>\n",
       "      <td>0</td>\n",
       "      <td>0</td>\n",
       "      <td>Yes</td>\n",
       "      <td>Yes</td>\n",
       "      <td>12</td>\n",
       "      <td>Yes</td>\n",
       "      <td>Yes</td>\n",
       "      <td>4</td>\n",
       "      <td>No</td>\n",
       "    </tr>\n",
       "    <tr>\n",
       "      <th>4</th>\n",
       "      <td>2000-01-01</td>\n",
       "      <td>Green Land Hospital</td>\n",
       "      <td>Abia</td>\n",
       "      <td>Aba North</td>\n",
       "      <td>Ariaria</td>\n",
       "      <td>Private</td>\n",
       "      <td>For Profit</td>\n",
       "      <td>Primary</td>\n",
       "      <td>Primary Health Clinic</td>\n",
       "      <td>Aba North, Abia</td>\n",
       "      <td>...</td>\n",
       "      <td>1</td>\n",
       "      <td>0</td>\n",
       "      <td>0</td>\n",
       "      <td>Yes</td>\n",
       "      <td>Yes</td>\n",
       "      <td>5</td>\n",
       "      <td>No</td>\n",
       "      <td>Yes</td>\n",
       "      <td>2</td>\n",
       "      <td>No</td>\n",
       "    </tr>\n",
       "    <tr>\n",
       "      <th>...</th>\n",
       "      <td>...</td>\n",
       "      <td>...</td>\n",
       "      <td>...</td>\n",
       "      <td>...</td>\n",
       "      <td>...</td>\n",
       "      <td>...</td>\n",
       "      <td>...</td>\n",
       "      <td>...</td>\n",
       "      <td>...</td>\n",
       "      <td>...</td>\n",
       "      <td>...</td>\n",
       "      <td>...</td>\n",
       "      <td>...</td>\n",
       "      <td>...</td>\n",
       "      <td>...</td>\n",
       "      <td>...</td>\n",
       "      <td>...</td>\n",
       "      <td>...</td>\n",
       "      <td>...</td>\n",
       "      <td>...</td>\n",
       "      <td>...</td>\n",
       "    </tr>\n",
       "    <tr>\n",
       "      <th>36705</th>\n",
       "      <td>2003-04-01</td>\n",
       "      <td>Zurmi General Hospital</td>\n",
       "      <td>Zamfara</td>\n",
       "      <td>Zurmi</td>\n",
       "      <td>Zurmi</td>\n",
       "      <td>Public</td>\n",
       "      <td>State Government</td>\n",
       "      <td>Secondary</td>\n",
       "      <td>General Hospital</td>\n",
       "      <td>Along Rukudawa Road Zurmi</td>\n",
       "      <td>...</td>\n",
       "      <td>1</td>\n",
       "      <td>1</td>\n",
       "      <td>0</td>\n",
       "      <td>Yes</td>\n",
       "      <td>Yes</td>\n",
       "      <td>104</td>\n",
       "      <td>Yes</td>\n",
       "      <td>Yes</td>\n",
       "      <td>8</td>\n",
       "      <td>Yes</td>\n",
       "    </tr>\n",
       "    <tr>\n",
       "      <th>36706</th>\n",
       "      <td>2009-01-01</td>\n",
       "      <td>Zurmi Government Arabic Secondary School Healt...</td>\n",
       "      <td>Zamfara</td>\n",
       "      <td>Zurmi</td>\n",
       "      <td>Zurmi</td>\n",
       "      <td>Public</td>\n",
       "      <td>Local Government</td>\n",
       "      <td>Primary</td>\n",
       "      <td>Primary Health Clinic</td>\n",
       "      <td>Opposite LGA Secrateriat  Zurmi</td>\n",
       "      <td>...</td>\n",
       "      <td>1</td>\n",
       "      <td>0</td>\n",
       "      <td>1</td>\n",
       "      <td>Yes</td>\n",
       "      <td>Yes</td>\n",
       "      <td>5</td>\n",
       "      <td>No</td>\n",
       "      <td>Yes</td>\n",
       "      <td>2</td>\n",
       "      <td>No</td>\n",
       "    </tr>\n",
       "    <tr>\n",
       "      <th>36707</th>\n",
       "      <td>2010-01-01</td>\n",
       "      <td>Zurmi Ophan and Lessprevilledge Health Post</td>\n",
       "      <td>Zamfara</td>\n",
       "      <td>Zurmi</td>\n",
       "      <td>Zurmi</td>\n",
       "      <td>Public</td>\n",
       "      <td>Local Government</td>\n",
       "      <td>Primary</td>\n",
       "      <td>Primary Health Clinic</td>\n",
       "      <td>Near Kasuwar Daji Area  Zurmi</td>\n",
       "      <td>...</td>\n",
       "      <td>1</td>\n",
       "      <td>0</td>\n",
       "      <td>1</td>\n",
       "      <td>Yes</td>\n",
       "      <td>Yes</td>\n",
       "      <td>6</td>\n",
       "      <td>No</td>\n",
       "      <td>No</td>\n",
       "      <td>4</td>\n",
       "      <td>No</td>\n",
       "    </tr>\n",
       "    <tr>\n",
       "      <th>36708</th>\n",
       "      <td>2010-01-01</td>\n",
       "      <td>Zurmi Primary Health Centre</td>\n",
       "      <td>Zamfara</td>\n",
       "      <td>Zurmi</td>\n",
       "      <td>Zurmi</td>\n",
       "      <td>Public</td>\n",
       "      <td>Local Government</td>\n",
       "      <td>Primary</td>\n",
       "      <td>Primary Health Clinic</td>\n",
       "      <td>Along Katanga Road Zurmi \\t\\t12.78032</td>\n",
       "      <td>...</td>\n",
       "      <td>1</td>\n",
       "      <td>0</td>\n",
       "      <td>2</td>\n",
       "      <td>Yes</td>\n",
       "      <td>Yes</td>\n",
       "      <td>17</td>\n",
       "      <td>Yes</td>\n",
       "      <td>Yes</td>\n",
       "      <td>5</td>\n",
       "      <td>No</td>\n",
       "    </tr>\n",
       "    <tr>\n",
       "      <th>36709</th>\n",
       "      <td>1986-01-01</td>\n",
       "      <td>Zurmi Town Health Post</td>\n",
       "      <td>Zamfara</td>\n",
       "      <td>Zurmi</td>\n",
       "      <td>Zurmi</td>\n",
       "      <td>Public</td>\n",
       "      <td>Local Government</td>\n",
       "      <td>Primary</td>\n",
       "      <td>Primary Health Clinic</td>\n",
       "      <td>Beside Shiyar Mamman Area Zurmi</td>\n",
       "      <td>...</td>\n",
       "      <td>1</td>\n",
       "      <td>0</td>\n",
       "      <td>1</td>\n",
       "      <td>Yes</td>\n",
       "      <td>Yes</td>\n",
       "      <td>5</td>\n",
       "      <td>No</td>\n",
       "      <td>Yes</td>\n",
       "      <td>3</td>\n",
       "      <td>No</td>\n",
       "    </tr>\n",
       "  </tbody>\n",
       "</table>\n",
       "<p>36710 rows × 39 columns</p>\n",
       "</div>"
      ],
      "text/plain": [
       "       start_date                                      facility_name    state  \\\n",
       "0      2003-05-10                           Aba Holy Wounds Hospital     Abia   \n",
       "1      2000-01-01                                   Chidima Hospital     Abia   \n",
       "2      2008-03-12                                      Euna Hospital     Abia   \n",
       "3      2009-06-02                          Goodness & Mercy hospital     Abia   \n",
       "4      2000-01-01                                Green Land Hospital     Abia   \n",
       "...           ...                                                ...      ...   \n",
       "36705  2003-04-01                             Zurmi General Hospital  Zamfara   \n",
       "36706  2009-01-01  Zurmi Government Arabic Secondary School Healt...  Zamfara   \n",
       "36707  2010-01-01        Zurmi Ophan and Lessprevilledge Health Post  Zamfara   \n",
       "36708  2010-01-01                        Zurmi Primary Health Centre  Zamfara   \n",
       "36709  1986-01-01                             Zurmi Town Health Post  Zamfara   \n",
       "\n",
       "             lga     ward ownership    ownership_type facility_level  \\\n",
       "0      Aba North  Ariaria   Private        For Profit      Secondary   \n",
       "1      Aba North  Ariaria   Private        For Profit        Primary   \n",
       "2      Aba North  Ariaria   Private        For Profit      Secondary   \n",
       "3      Aba North  Ariaria   Private        For Profit      Secondary   \n",
       "4      Aba North  Ariaria   Private        For Profit        Primary   \n",
       "...          ...      ...       ...               ...            ...   \n",
       "36705      Zurmi    Zurmi    Public  State Government      Secondary   \n",
       "36706      Zurmi    Zurmi    Public  Local Government        Primary   \n",
       "36707      Zurmi    Zurmi    Public  Local Government        Primary   \n",
       "36708      Zurmi    Zurmi    Public  Local Government        Primary   \n",
       "36709      Zurmi    Zurmi    Public  Local Government        Primary   \n",
       "\n",
       "       facility_level_option                      physical_location  ...  \\\n",
       "0           General Hospital                        Aba North, Abia  ...   \n",
       "1      Primary Health Clinic                        Aba North, Abia  ...   \n",
       "2           General Hospital                        Aba North, Abia  ...   \n",
       "3           General Hospital                        Aba North, Abia  ...   \n",
       "4      Primary Health Clinic                        Aba North, Abia  ...   \n",
       "...                      ...                                    ...  ...   \n",
       "36705       General Hospital              Along Rukudawa Road Zurmi  ...   \n",
       "36706  Primary Health Clinic        Opposite LGA Secrateriat  Zurmi  ...   \n",
       "36707  Primary Health Clinic          Near Kasuwar Daji Area  Zurmi  ...   \n",
       "36708  Primary Health Clinic  Along Katanga Road Zurmi \\t\\t12.78032  ...   \n",
       "36709  Primary Health Clinic        Beside Shiyar Mamman Area Zurmi  ...   \n",
       "\n",
       "       jun_community_extension_worker  dental_technicians env_health_officers  \\\n",
       "0                                   1                   0                   0   \n",
       "1                                   1                   0                   0   \n",
       "2                                   0                   0                   0   \n",
       "3                                   0                   0                   0   \n",
       "4                                   1                   0                   0   \n",
       "...                               ...                 ...                 ...   \n",
       "36705                               1                   1                   0   \n",
       "36706                               1                   0                   1   \n",
       "36707                               1                   0                   1   \n",
       "36708                               1                   0                   2   \n",
       "36709                               1                   0                   1   \n",
       "\n",
       "      inpatient  outpatient beds onsite_laboratory  onsite_pharmarcy  \\\n",
       "0           Yes         Yes   14               Yes               Yes   \n",
       "1           Yes         Yes    5                No               Yes   \n",
       "2           Yes         Yes   17               Yes               Yes   \n",
       "3           Yes         Yes   12               Yes               Yes   \n",
       "4           Yes         Yes    5                No               Yes   \n",
       "...         ...         ...  ...               ...               ...   \n",
       "36705       Yes         Yes  104               Yes               Yes   \n",
       "36706       Yes         Yes    5                No               Yes   \n",
       "36707       Yes         Yes    6                No                No   \n",
       "36708       Yes         Yes   17               Yes               Yes   \n",
       "36709       Yes         Yes    5                No               Yes   \n",
       "\n",
       "       attendants  ambulance_services  \n",
       "0               0                 Yes  \n",
       "1               2                  No  \n",
       "2               0                  No  \n",
       "3               4                  No  \n",
       "4               2                  No  \n",
       "...           ...                 ...  \n",
       "36705           8                 Yes  \n",
       "36706           2                  No  \n",
       "36707           4                  No  \n",
       "36708           5                  No  \n",
       "36709           3                  No  \n",
       "\n",
       "[36710 rows x 39 columns]"
      ]
     },
     "execution_count": 60,
     "metadata": {},
     "output_type": "execute_result"
    }
   ],
   "source": [
    "df = data.copy()\n",
    "df"
   ]
  },
  {
   "cell_type": "markdown",
   "id": "9abf80ee",
   "metadata": {},
   "source": [
    "# Checking The Correlation Between Categorical Variables and Target Variable"
   ]
  },
  {
   "cell_type": "markdown",
   "id": "2948c71f",
   "metadata": {},
   "source": [
    "Threshold\n",
    "\n",
    "p < 0.05 (Reject the null hypothesis of independence.)"
   ]
  },
  {
   "cell_type": "code",
   "execution_count": 61,
   "id": "e930f79c",
   "metadata": {},
   "outputs": [
    {
     "name": "stdout",
     "output_type": "stream",
     "text": [
      "Chi-square statistic: 751.4275308517836\n",
      "P-value: 5.3152742749684754e-136\n"
     ]
    }
   ],
   "source": [
    "# Use this one\n",
    "\n",
    "from scipy.stats import chi2_contingency\n",
    "\n",
    "contingency_table = pd.crosstab(df['state'], df['ambulance_services'])\n",
    "chi2, p, dof, expected = chi2_contingency(contingency_table)\n",
    "print(f\"Chi-square statistic: {chi2}\")\n",
    "print(f\"P-value: {p}\")"
   ]
  },
  {
   "cell_type": "code",
   "execution_count": 62,
   "id": "f7a281af",
   "metadata": {},
   "outputs": [
    {
     "name": "stdout",
     "output_type": "stream",
     "text": [
      "Chi-square statistic: 371.0087997577068\n",
      "P-value: 1.1286204823543903e-82\n"
     ]
    }
   ],
   "source": [
    "# Use this one\n",
    "\n",
    "contingency_table = pd.crosstab(df['ownership'], df['ambulance_services'])\n",
    "chi2, p, dof, expected = chi2_contingency(contingency_table)\n",
    "print(f\"Chi-square statistic: {chi2}\")\n",
    "print(f\"P-value: {p}\")"
   ]
  },
  {
   "cell_type": "code",
   "execution_count": 63,
   "id": "2208952c",
   "metadata": {},
   "outputs": [
    {
     "name": "stdout",
     "output_type": "stream",
     "text": [
      "Chi-square statistic: 3023.182488377953\n",
      "P-value: 0.0\n"
     ]
    }
   ],
   "source": [
    "contingency_table = pd.crosstab(df['facility_level'], df['ambulance_services'])\n",
    "chi2, p, dof, expected = chi2_contingency(contingency_table)\n",
    "print(f\"Chi-square statistic: {chi2}\")\n",
    "print(f\"P-value: {p}\")"
   ]
  },
  {
   "cell_type": "code",
   "execution_count": 64,
   "id": "34276518",
   "metadata": {},
   "outputs": [
    {
     "name": "stdout",
     "output_type": "stream",
     "text": [
      "Chi-square statistic: 252.0483333738328\n",
      "P-value: 1.998035594001126e-52\n"
     ]
    }
   ],
   "source": [
    "contingency_table = pd.crosstab(df['registration_status'], df['ambulance_services'])\n",
    "chi2, p, dof, expected = chi2_contingency(contingency_table)\n",
    "print(f\"Chi-square statistic: {chi2}\")\n",
    "print(f\"P-value: {p}\")"
   ]
  },
  {
   "cell_type": "code",
   "execution_count": 65,
   "id": "c743339b",
   "metadata": {},
   "outputs": [
    {
     "name": "stdout",
     "output_type": "stream",
     "text": [
      "Chi-square statistic: 252.4044180297754\n",
      "P-value: 1.6756867682522113e-52\n"
     ]
    }
   ],
   "source": [
    "contingency_table = pd.crosstab(df['license_status'], df['ambulance_services'])\n",
    "chi2, p, dof, expected = chi2_contingency(contingency_table)\n",
    "print(f\"Chi-square statistic: {chi2}\")\n",
    "print(f\"P-value: {p}\")"
   ]
  },
  {
   "cell_type": "code",
   "execution_count": 66,
   "id": "8b2195cc",
   "metadata": {},
   "outputs": [
    {
     "name": "stdout",
     "output_type": "stream",
     "text": [
      "Chi-square statistic: 0.0\n",
      "P-value: 1.0\n"
     ]
    }
   ],
   "source": [
    "contingency_table = pd.crosstab(df['inpatient'], df['ambulance_services'])\n",
    "chi2, p, dof, expected = chi2_contingency(contingency_table)\n",
    "print(f\"Chi-square statistic: {chi2}\")\n",
    "print(f\"P-value: {p}\")"
   ]
  },
  {
   "cell_type": "code",
   "execution_count": 67,
   "id": "f5d9b872",
   "metadata": {},
   "outputs": [
    {
     "name": "stdout",
     "output_type": "stream",
     "text": [
      "Chi-square statistic: 0.0\n",
      "P-value: 1.0\n"
     ]
    }
   ],
   "source": [
    "contingency_table = pd.crosstab(df['outpatient'], df['ambulance_services'])\n",
    "chi2, p, dof, expected = chi2_contingency(contingency_table)\n",
    "print(f\"Chi-square statistic: {chi2}\")\n",
    "print(f\"P-value: {p}\")"
   ]
  },
  {
   "cell_type": "code",
   "execution_count": 68,
   "id": "a40a6359",
   "metadata": {},
   "outputs": [
    {
     "name": "stdout",
     "output_type": "stream",
     "text": [
      "Chi-square statistic: 4846.410390870923\n",
      "P-value: 0.0\n"
     ]
    }
   ],
   "source": [
    "contingency_table = pd.crosstab(df['onsite_laboratory'], df['ambulance_services'])\n",
    "chi2, p, dof, expected = chi2_contingency(contingency_table)\n",
    "print(f\"Chi-square statistic: {chi2}\")\n",
    "print(f\"P-value: {p}\")"
   ]
  },
  {
   "cell_type": "code",
   "execution_count": 69,
   "id": "32e773e3",
   "metadata": {},
   "outputs": [
    {
     "name": "stdout",
     "output_type": "stream",
     "text": [
      "Chi-square statistic: 3023.182488377953\n",
      "P-value: 0.0\n"
     ]
    }
   ],
   "source": [
    "contingency_table = pd.crosstab(df['facility_level_option'], df['ambulance_services'])\n",
    "chi2, p, dof, expected = chi2_contingency(contingency_table)\n",
    "print(f\"Chi-square statistic: {chi2}\")\n",
    "print(f\"P-value: {p}\")"
   ]
  },
  {
   "cell_type": "code",
   "execution_count": 70,
   "id": "68b5da72",
   "metadata": {},
   "outputs": [
    {
     "name": "stdout",
     "output_type": "stream",
     "text": [
      "Chi-square statistic: 3054.753495565584\n",
      "P-value: 1.2355632657502117e-283\n"
     ]
    }
   ],
   "source": [
    "contingency_table = pd.crosstab(df['lga'], df['ambulance_services'])\n",
    "chi2, p, dof, expected = chi2_contingency(contingency_table)\n",
    "print(f\"Chi-square statistic: {chi2}\")\n",
    "print(f\"P-value: {p}\")"
   ]
  },
  {
   "cell_type": "code",
   "execution_count": 71,
   "id": "40a40a48",
   "metadata": {},
   "outputs": [
    {
     "name": "stdout",
     "output_type": "stream",
     "text": [
      "Chi-square statistic: 10195.543793617817\n",
      "P-value: 4.812007266163924e-47\n"
     ]
    }
   ],
   "source": [
    "contingency_table = pd.crosstab(df['ward'], df['ambulance_services'])\n",
    "chi2, p, dof, expected = chi2_contingency(contingency_table)\n",
    "print(f\"Chi-square statistic: {chi2}\")\n",
    "print(f\"P-value: {p}\")"
   ]
  },
  {
   "cell_type": "code",
   "execution_count": 72,
   "id": "9fb5f620",
   "metadata": {},
   "outputs": [
    {
     "name": "stdout",
     "output_type": "stream",
     "text": [
      "Chi-square statistic: 678.3195042792579\n",
      "P-value: 1.058358083311696e-107\n"
     ]
    }
   ],
   "source": [
    "contingency_table = pd.crosstab(df['operational_days'], df['ambulance_services'])\n",
    "chi2, p, dof, expected = chi2_contingency(contingency_table)\n",
    "print(f\"Chi-square statistic: {chi2}\")\n",
    "print(f\"P-value: {p}\")"
   ]
  },
  {
   "cell_type": "code",
   "execution_count": 73,
   "id": "3361bd54",
   "metadata": {},
   "outputs": [
    {
     "name": "stdout",
     "output_type": "stream",
     "text": [
      "Chi-square statistic: 30505.878987919496\n",
      "P-value: 5.443556904226437e-178\n"
     ]
    }
   ],
   "source": [
    "contingency_table = pd.crosstab(df['physical_location'], df['ambulance_services'])\n",
    "chi2, p, dof, expected = chi2_contingency(contingency_table)\n",
    "print(f\"Chi-square statistic: {chi2}\")\n",
    "print(f\"P-value: {p}\")"
   ]
  },
  {
   "cell_type": "code",
   "execution_count": 74,
   "id": "47dd69b5",
   "metadata": {},
   "outputs": [
    {
     "name": "stdout",
     "output_type": "stream",
     "text": [
      "Chi-square statistic: 2768.8333191591137\n",
      "P-value: 0.0\n"
     ]
    }
   ],
   "source": [
    "contingency_table = pd.crosstab(df['ownership_type'], df['ambulance_services'])\n",
    "chi2, p, dof, expected = chi2_contingency(contingency_table)\n",
    "print(f\"Chi-square statistic: {chi2}\")\n",
    "print(f\"P-value: {p}\")"
   ]
  },
  {
   "cell_type": "markdown",
   "id": "f613276b",
   "metadata": {},
   "source": [
    "Now we are done with the categorical variables, let use check out for numerical columns"
   ]
  },
  {
   "cell_type": "markdown",
   "id": "27f900db",
   "metadata": {},
   "source": [
    "# Checking The Correlation Between Numerical Variables and Target Variable"
   ]
  },
  {
   "cell_type": "code",
   "execution_count": 75,
   "id": "fc5d73d9",
   "metadata": {},
   "outputs": [],
   "source": [
    "df['ambulance_services'] = df['ambulance_services'].map({'Yes': 1, 'No': 0})"
   ]
  },
  {
   "cell_type": "markdown",
   "id": "585fa843",
   "metadata": {},
   "source": [
    "Magnitude of the Correlation Coefficient(Point-Biserial Correlation):\n",
    "\n",
    "0.00 to 0.19: Very weak correlation\n",
    "0.20 to 0.39: Weak correlation\n",
    "0.40 to 0.59: Moderate correlation\n",
    "0.60 to 0.79: Strong correlation\n",
    "0.80 to 1.00: Very strong correlation\n",
    "    \n",
    "A smaller p-value (typically below 0.05) suggests that the observed correlation is unlikely to be due to random chance alone."
   ]
  },
  {
   "cell_type": "code",
   "execution_count": 76,
   "id": "f99f605d",
   "metadata": {},
   "outputs": [
    {
     "name": "stdout",
     "output_type": "stream",
     "text": [
      "Point-Biserial Correlation: 0.11143071910880097\n",
      "P-value: 9.487322815013377e-102\n"
     ]
    }
   ],
   "source": [
    "from scipy.stats import pointbiserialr\n",
    "\n",
    "correlation_coefficient, p_value = pointbiserialr(df['ambulance_services'], df['operational_hours'])\n",
    "print(f\"Point-Biserial Correlation: {correlation_coefficient}\")\n",
    "print(f\"P-value: {p_value}\")"
   ]
  },
  {
   "cell_type": "code",
   "execution_count": 77,
   "id": "21d3756c",
   "metadata": {},
   "outputs": [
    {
     "name": "stdout",
     "output_type": "stream",
     "text": [
      "Point-Biserial Correlation: 0.19368336002733344\n",
      "P-value: 3.627672843418731e-307\n"
     ]
    }
   ],
   "source": [
    "correlation_coefficient, p_value = pointbiserialr(df['ambulance_services'], df['doctors'])\n",
    "print(f\"Point-Biserial Correlation: {correlation_coefficient}\")\n",
    "print(f\"P-value: {p_value}\")"
   ]
  },
  {
   "cell_type": "code",
   "execution_count": 78,
   "id": "02c805ac",
   "metadata": {},
   "outputs": [
    {
     "name": "stdout",
     "output_type": "stream",
     "text": [
      "Point-Biserial Correlation: 0.2507387566493533\n",
      "P-value: 0.0\n"
     ]
    }
   ],
   "source": [
    "correlation_coefficient, p_value = pointbiserialr(df['ambulance_services'], df['pharmacists'])\n",
    "print(f\"Point-Biserial Correlation: {correlation_coefficient}\")\n",
    "print(f\"P-value: {p_value}\")"
   ]
  },
  {
   "cell_type": "code",
   "execution_count": 79,
   "id": "240a3e3a",
   "metadata": {},
   "outputs": [
    {
     "name": "stdout",
     "output_type": "stream",
     "text": [
      "Point-Biserial Correlation: 0.08808558769736825\n",
      "P-value: 3.8378853631650814e-64\n"
     ]
    }
   ],
   "source": [
    "correlation_coefficient, p_value = pointbiserialr(df['ambulance_services'], df['dentist'])\n",
    "print(f\"Point-Biserial Correlation: {correlation_coefficient}\")\n",
    "print(f\"P-value: {p_value}\")"
   ]
  },
  {
   "cell_type": "code",
   "execution_count": 80,
   "id": "5d13a635",
   "metadata": {},
   "outputs": [
    {
     "name": "stdout",
     "output_type": "stream",
     "text": [
      "Point-Biserial Correlation: 0.31442808998908867\n",
      "P-value: 0.0\n"
     ]
    }
   ],
   "source": [
    "correlation_coefficient, p_value = pointbiserialr(df['ambulance_services'], df['pharmacy_technicians'])\n",
    "print(f\"Point-Biserial Correlation: {correlation_coefficient}\")\n",
    "print(f\"P-value: {p_value}\")"
   ]
  },
  {
   "cell_type": "code",
   "execution_count": 81,
   "id": "927116e5",
   "metadata": {},
   "outputs": [
    {
     "name": "stdout",
     "output_type": "stream",
     "text": [
      "Point-Biserial Correlation: 0.24920020311008537\n",
      "P-value: 0.0\n"
     ]
    }
   ],
   "source": [
    "correlation_coefficient, p_value = pointbiserialr(df['ambulance_services'], df['nurses'])\n",
    "print(f\"Point-Biserial Correlation: {correlation_coefficient}\")\n",
    "print(f\"P-value: {p_value}\")"
   ]
  },
  {
   "cell_type": "code",
   "execution_count": 82,
   "id": "fc7c87bc",
   "metadata": {},
   "outputs": [
    {
     "name": "stdout",
     "output_type": "stream",
     "text": [
      "Point-Biserial Correlation: 0.25775879014255243\n",
      "P-value: 0.0\n"
     ]
    }
   ],
   "source": [
    "correlation_coefficient, p_value = pointbiserialr(df['ambulance_services'], df['lab_scientists'])\n",
    "print(f\"Point-Biserial Correlation: {correlation_coefficient}\")\n",
    "print(f\"P-value: {p_value}\")"
   ]
  },
  {
   "cell_type": "code",
   "execution_count": 83,
   "id": "68fd8108",
   "metadata": {},
   "outputs": [
    {
     "name": "stdout",
     "output_type": "stream",
     "text": [
      "Point-Biserial Correlation: 0.23823494969594045\n",
      "P-value: 0.0\n"
     ]
    }
   ],
   "source": [
    "correlation_coefficient, p_value = pointbiserialr(df['ambulance_services'], df['midwifes'])\n",
    "print(f\"Point-Biserial Correlation: {correlation_coefficient}\")\n",
    "print(f\"P-value: {p_value}\")"
   ]
  },
  {
   "cell_type": "code",
   "execution_count": 84,
   "id": "b57b7ace",
   "metadata": {},
   "outputs": [
    {
     "name": "stdout",
     "output_type": "stream",
     "text": [
      "Point-Biserial Correlation: 0.3381846227747075\n",
      "P-value: 0.0\n"
     ]
    }
   ],
   "source": [
    "correlation_coefficient, p_value = pointbiserialr(df['ambulance_services'], df['lab_technicians'])\n",
    "print(f\"Point-Biserial Correlation: {correlation_coefficient}\")\n",
    "print(f\"P-value: {p_value}\")"
   ]
  },
  {
   "cell_type": "code",
   "execution_count": 85,
   "id": "39362e15",
   "metadata": {},
   "outputs": [
    {
     "name": "stdout",
     "output_type": "stream",
     "text": [
      "Point-Biserial Correlation: 0.19677905321758277\n",
      "P-value: 3.4349637e-317\n"
     ]
    }
   ],
   "source": [
    "correlation_coefficient, p_value = pointbiserialr(df['ambulance_services'], df['nurse_midwife'])\n",
    "print(f\"Point-Biserial Correlation: {correlation_coefficient}\")\n",
    "print(f\"P-value: {p_value}\")"
   ]
  },
  {
   "cell_type": "code",
   "execution_count": 86,
   "id": "e4cbb0ea",
   "metadata": {},
   "outputs": [
    {
     "name": "stdout",
     "output_type": "stream",
     "text": [
      "Point-Biserial Correlation: 0.27367014890259256\n",
      "P-value: 0.0\n"
     ]
    }
   ],
   "source": [
    "correlation_coefficient, p_value = pointbiserialr(df['ambulance_services'], df['him_officers'])\n",
    "print(f\"Point-Biserial Correlation: {correlation_coefficient}\")\n",
    "print(f\"P-value: {p_value}\")"
   ]
  },
  {
   "cell_type": "code",
   "execution_count": 87,
   "id": "ef4808e3",
   "metadata": {},
   "outputs": [
    {
     "name": "stdout",
     "output_type": "stream",
     "text": [
      "Point-Biserial Correlation: 0.1293597623252633\n",
      "P-value: 9.804503805917648e-137\n"
     ]
    }
   ],
   "source": [
    "correlation_coefficient, p_value = pointbiserialr(df['ambulance_services'], df['community_health_officer'])\n",
    "print(f\"Point-Biserial Correlation: {correlation_coefficient}\")\n",
    "print(f\"P-value: {p_value}\")"
   ]
  },
  {
   "cell_type": "code",
   "execution_count": 88,
   "id": "1d643e52",
   "metadata": {},
   "outputs": [
    {
     "name": "stdout",
     "output_type": "stream",
     "text": [
      "Point-Biserial Correlation: 0.1836101086858547\n",
      "P-value: 9.909726277460142e-276\n"
     ]
    }
   ],
   "source": [
    "correlation_coefficient, p_value = pointbiserialr(df['ambulance_services'], df['community_extension_workers'])\n",
    "print(f\"Point-Biserial Correlation: {correlation_coefficient}\")\n",
    "print(f\"P-value: {p_value}\")"
   ]
  },
  {
   "cell_type": "code",
   "execution_count": 89,
   "id": "7a3dccc2",
   "metadata": {},
   "outputs": [
    {
     "name": "stdout",
     "output_type": "stream",
     "text": [
      "Point-Biserial Correlation: 0.1274727751372577\n",
      "P-value: 8.426481957160684e-133\n"
     ]
    }
   ],
   "source": [
    "correlation_coefficient, p_value = pointbiserialr(df['ambulance_services'], df['jun_community_extension_worker'])\n",
    "print(f\"Point-Biserial Correlation: {correlation_coefficient}\")\n",
    "print(f\"P-value: {p_value}\")"
   ]
  },
  {
   "cell_type": "code",
   "execution_count": 90,
   "id": "e5a1ac30",
   "metadata": {},
   "outputs": [
    {
     "name": "stdout",
     "output_type": "stream",
     "text": [
      "Point-Biserial Correlation: 0.17869463086205317\n",
      "P-value: 4.844061039878395e-261\n"
     ]
    }
   ],
   "source": [
    "correlation_coefficient, p_value = pointbiserialr(df['ambulance_services'], df['dental_technicians'])\n",
    "print(f\"Point-Biserial Correlation: {correlation_coefficient}\")\n",
    "print(f\"P-value: {p_value}\")"
   ]
  },
  {
   "cell_type": "code",
   "execution_count": 91,
   "id": "8e6dad47",
   "metadata": {},
   "outputs": [
    {
     "name": "stdout",
     "output_type": "stream",
     "text": [
      "Point-Biserial Correlation: 0.13273795309935824\n",
      "P-value: 6.298403635340529e-144\n"
     ]
    }
   ],
   "source": [
    "correlation_coefficient, p_value = pointbiserialr(df['ambulance_services'], df['env_health_officers'])\n",
    "print(f\"Point-Biserial Correlation: {correlation_coefficient}\")\n",
    "print(f\"P-value: {p_value}\")"
   ]
  },
  {
   "cell_type": "code",
   "execution_count": 92,
   "id": "33612ac5",
   "metadata": {},
   "outputs": [
    {
     "name": "stdout",
     "output_type": "stream",
     "text": [
      "Point-Biserial Correlation: 0.3069239086993022\n",
      "P-value: 0.0\n"
     ]
    }
   ],
   "source": [
    "correlation_coefficient, p_value = pointbiserialr(df['ambulance_services'], df['beds'])\n",
    "print(f\"Point-Biserial Correlation: {correlation_coefficient}\")\n",
    "print(f\"P-value: {p_value}\")"
   ]
  },
  {
   "cell_type": "code",
   "execution_count": 93,
   "id": "8392e7db",
   "metadata": {},
   "outputs": [
    {
     "name": "stdout",
     "output_type": "stream",
     "text": [
      "Point-Biserial Correlation: 0.22300708160549676\n",
      "P-value: 0.0\n"
     ]
    }
   ],
   "source": [
    "correlation_coefficient, p_value = pointbiserialr(df['ambulance_services'], df['attendants'])\n",
    "print(f\"Point-Biserial Correlation: {correlation_coefficient}\")\n",
    "print(f\"P-value: {p_value}\")"
   ]
  },
  {
   "cell_type": "code",
   "execution_count": 94,
   "id": "1f025ae2",
   "metadata": {},
   "outputs": [
    {
     "name": "stdout",
     "output_type": "stream",
     "text": [
      "Point-Biserial Correlation: -0.03770894370480342\n",
      "P-value: 4.926807800222699e-13\n"
     ]
    }
   ],
   "source": [
    "correlation_coefficient, p_value = pointbiserialr(df['ambulance_services'], df['longitude'])\n",
    "print(f\"Point-Biserial Correlation: {correlation_coefficient}\")\n",
    "print(f\"P-value: {p_value}\")"
   ]
  },
  {
   "cell_type": "code",
   "execution_count": 95,
   "id": "bb7e9b9b",
   "metadata": {},
   "outputs": [
    {
     "name": "stdout",
     "output_type": "stream",
     "text": [
      "Point-Biserial Correlation: -0.021540656029914257\n",
      "P-value: 3.667339530847215e-05\n"
     ]
    }
   ],
   "source": [
    "correlation_coefficient, p_value = pointbiserialr(df['ambulance_services'], df['latitude'])\n",
    "print(f\"Point-Biserial Correlation: {correlation_coefficient}\")\n",
    "print(f\"P-value: {p_value}\")"
   ]
  },
  {
   "cell_type": "markdown",
   "id": "baf407b1",
   "metadata": {},
   "source": [
    "For the numerical columns these are the columns doctors, pharmacists, dentist, nurses, lab_scientists, midwifes, nurse_midwife, and beds because they are more reasonable than others in as much as their Point-Biserial Correlation are all weak based on our threshold. Then for the categorical variables we will be using these ones state, ownership, registration_status, and operational_days. We removed others because their p-values are greater than 0.05 and some is not relevant for this project, thus it doesn't make sense to have state and lga(Local Government Area) for this project."
   ]
  },
  {
   "cell_type": "code",
   "execution_count": 98,
   "id": "496a12e0",
   "metadata": {},
   "outputs": [],
   "source": [
    "columns_to_keep = ['doctors', 'pharmacists', 'dentist', 'nurses', 'lab_scientists', 'midwifes', 'nurse_midwife', \n",
    "                   'beds', 'state', 'ownership', 'registration_status', 'operational_days', 'ambulance_services']\n",
    "df_filtered = df.loc[:, columns_to_keep]"
   ]
  },
  {
   "cell_type": "code",
   "execution_count": 99,
   "id": "bc7b0645",
   "metadata": {},
   "outputs": [
    {
     "data": {
      "text/html": [
       "<div>\n",
       "<style scoped>\n",
       "    .dataframe tbody tr th:only-of-type {\n",
       "        vertical-align: middle;\n",
       "    }\n",
       "\n",
       "    .dataframe tbody tr th {\n",
       "        vertical-align: top;\n",
       "    }\n",
       "\n",
       "    .dataframe thead th {\n",
       "        text-align: right;\n",
       "    }\n",
       "</style>\n",
       "<table border=\"1\" class=\"dataframe\">\n",
       "  <thead>\n",
       "    <tr style=\"text-align: right;\">\n",
       "      <th></th>\n",
       "      <th>doctors</th>\n",
       "      <th>pharmacists</th>\n",
       "      <th>dentist</th>\n",
       "      <th>nurses</th>\n",
       "      <th>lab_scientists</th>\n",
       "      <th>midwifes</th>\n",
       "      <th>nurse_midwife</th>\n",
       "      <th>beds</th>\n",
       "      <th>state</th>\n",
       "      <th>ownership</th>\n",
       "      <th>registration_status</th>\n",
       "      <th>operational_days</th>\n",
       "      <th>ambulance_services</th>\n",
       "    </tr>\n",
       "  </thead>\n",
       "  <tbody>\n",
       "    <tr>\n",
       "      <th>0</th>\n",
       "      <td>3</td>\n",
       "      <td>0</td>\n",
       "      <td>0</td>\n",
       "      <td>2</td>\n",
       "      <td>1</td>\n",
       "      <td>1</td>\n",
       "      <td>2</td>\n",
       "      <td>14</td>\n",
       "      <td>Abia</td>\n",
       "      <td>Private</td>\n",
       "      <td>Registered</td>\n",
       "      <td>All Day of The Week</td>\n",
       "      <td>1</td>\n",
       "    </tr>\n",
       "    <tr>\n",
       "      <th>1</th>\n",
       "      <td>0</td>\n",
       "      <td>0</td>\n",
       "      <td>0</td>\n",
       "      <td>0</td>\n",
       "      <td>0</td>\n",
       "      <td>0</td>\n",
       "      <td>0</td>\n",
       "      <td>5</td>\n",
       "      <td>Abia</td>\n",
       "      <td>Private</td>\n",
       "      <td>Unknown</td>\n",
       "      <td>All Day of The Week</td>\n",
       "      <td>0</td>\n",
       "    </tr>\n",
       "    <tr>\n",
       "      <th>2</th>\n",
       "      <td>1</td>\n",
       "      <td>0</td>\n",
       "      <td>0</td>\n",
       "      <td>1</td>\n",
       "      <td>0</td>\n",
       "      <td>1</td>\n",
       "      <td>1</td>\n",
       "      <td>17</td>\n",
       "      <td>Abia</td>\n",
       "      <td>Private</td>\n",
       "      <td>Registered</td>\n",
       "      <td>All Day of The Week</td>\n",
       "      <td>0</td>\n",
       "    </tr>\n",
       "    <tr>\n",
       "      <th>3</th>\n",
       "      <td>2</td>\n",
       "      <td>0</td>\n",
       "      <td>0</td>\n",
       "      <td>1</td>\n",
       "      <td>0</td>\n",
       "      <td>1</td>\n",
       "      <td>0</td>\n",
       "      <td>12</td>\n",
       "      <td>Abia</td>\n",
       "      <td>Private</td>\n",
       "      <td>Registered</td>\n",
       "      <td>All Day of The Week</td>\n",
       "      <td>0</td>\n",
       "    </tr>\n",
       "    <tr>\n",
       "      <th>4</th>\n",
       "      <td>0</td>\n",
       "      <td>0</td>\n",
       "      <td>0</td>\n",
       "      <td>0</td>\n",
       "      <td>0</td>\n",
       "      <td>0</td>\n",
       "      <td>0</td>\n",
       "      <td>5</td>\n",
       "      <td>Abia</td>\n",
       "      <td>Private</td>\n",
       "      <td>Unknown</td>\n",
       "      <td>All Day of The Week</td>\n",
       "      <td>0</td>\n",
       "    </tr>\n",
       "    <tr>\n",
       "      <th>...</th>\n",
       "      <td>...</td>\n",
       "      <td>...</td>\n",
       "      <td>...</td>\n",
       "      <td>...</td>\n",
       "      <td>...</td>\n",
       "      <td>...</td>\n",
       "      <td>...</td>\n",
       "      <td>...</td>\n",
       "      <td>...</td>\n",
       "      <td>...</td>\n",
       "      <td>...</td>\n",
       "      <td>...</td>\n",
       "      <td>...</td>\n",
       "    </tr>\n",
       "    <tr>\n",
       "      <th>36705</th>\n",
       "      <td>2</td>\n",
       "      <td>1</td>\n",
       "      <td>2</td>\n",
       "      <td>4</td>\n",
       "      <td>1</td>\n",
       "      <td>3</td>\n",
       "      <td>1</td>\n",
       "      <td>104</td>\n",
       "      <td>Zamfara</td>\n",
       "      <td>Public</td>\n",
       "      <td>Unknown</td>\n",
       "      <td>All Day of The Week</td>\n",
       "      <td>1</td>\n",
       "    </tr>\n",
       "    <tr>\n",
       "      <th>36706</th>\n",
       "      <td>0</td>\n",
       "      <td>0</td>\n",
       "      <td>0</td>\n",
       "      <td>0</td>\n",
       "      <td>0</td>\n",
       "      <td>0</td>\n",
       "      <td>0</td>\n",
       "      <td>5</td>\n",
       "      <td>Zamfara</td>\n",
       "      <td>Public</td>\n",
       "      <td>Unknown</td>\n",
       "      <td>All Day of The Week Except Sunday, Saturday</td>\n",
       "      <td>0</td>\n",
       "    </tr>\n",
       "    <tr>\n",
       "      <th>36707</th>\n",
       "      <td>0</td>\n",
       "      <td>0</td>\n",
       "      <td>0</td>\n",
       "      <td>0</td>\n",
       "      <td>0</td>\n",
       "      <td>0</td>\n",
       "      <td>0</td>\n",
       "      <td>6</td>\n",
       "      <td>Zamfara</td>\n",
       "      <td>Public</td>\n",
       "      <td>Unknown</td>\n",
       "      <td>All Day of The Week Except Sunday, Saturday</td>\n",
       "      <td>0</td>\n",
       "    </tr>\n",
       "    <tr>\n",
       "      <th>36708</th>\n",
       "      <td>0</td>\n",
       "      <td>0</td>\n",
       "      <td>0</td>\n",
       "      <td>0</td>\n",
       "      <td>0</td>\n",
       "      <td>2</td>\n",
       "      <td>0</td>\n",
       "      <td>17</td>\n",
       "      <td>Zamfara</td>\n",
       "      <td>Public</td>\n",
       "      <td>Unknown</td>\n",
       "      <td>All Day of The Week</td>\n",
       "      <td>0</td>\n",
       "    </tr>\n",
       "    <tr>\n",
       "      <th>36709</th>\n",
       "      <td>0</td>\n",
       "      <td>0</td>\n",
       "      <td>0</td>\n",
       "      <td>0</td>\n",
       "      <td>0</td>\n",
       "      <td>0</td>\n",
       "      <td>0</td>\n",
       "      <td>5</td>\n",
       "      <td>Zamfara</td>\n",
       "      <td>Public</td>\n",
       "      <td>Unknown</td>\n",
       "      <td>All Day of The Week Except Sunday, Saturday</td>\n",
       "      <td>0</td>\n",
       "    </tr>\n",
       "  </tbody>\n",
       "</table>\n",
       "<p>36710 rows × 13 columns</p>\n",
       "</div>"
      ],
      "text/plain": [
       "       doctors  pharmacists  dentist  nurses  lab_scientists  midwifes  \\\n",
       "0            3            0        0       2               1         1   \n",
       "1            0            0        0       0               0         0   \n",
       "2            1            0        0       1               0         1   \n",
       "3            2            0        0       1               0         1   \n",
       "4            0            0        0       0               0         0   \n",
       "...        ...          ...      ...     ...             ...       ...   \n",
       "36705        2            1        2       4               1         3   \n",
       "36706        0            0        0       0               0         0   \n",
       "36707        0            0        0       0               0         0   \n",
       "36708        0            0        0       0               0         2   \n",
       "36709        0            0        0       0               0         0   \n",
       "\n",
       "       nurse_midwife  beds    state ownership registration_status  \\\n",
       "0                  2    14     Abia   Private          Registered   \n",
       "1                  0     5     Abia   Private             Unknown   \n",
       "2                  1    17     Abia   Private          Registered   \n",
       "3                  0    12     Abia   Private          Registered   \n",
       "4                  0     5     Abia   Private             Unknown   \n",
       "...              ...   ...      ...       ...                 ...   \n",
       "36705              1   104  Zamfara    Public             Unknown   \n",
       "36706              0     5  Zamfara    Public             Unknown   \n",
       "36707              0     6  Zamfara    Public             Unknown   \n",
       "36708              0    17  Zamfara    Public             Unknown   \n",
       "36709              0     5  Zamfara    Public             Unknown   \n",
       "\n",
       "                                  operational_days  ambulance_services  \n",
       "0                              All Day of The Week                   1  \n",
       "1                              All Day of The Week                   0  \n",
       "2                              All Day of The Week                   0  \n",
       "3                              All Day of The Week                   0  \n",
       "4                              All Day of The Week                   0  \n",
       "...                                            ...                 ...  \n",
       "36705                          All Day of The Week                   1  \n",
       "36706  All Day of The Week Except Sunday, Saturday                   0  \n",
       "36707  All Day of The Week Except Sunday, Saturday                   0  \n",
       "36708                          All Day of The Week                   0  \n",
       "36709  All Day of The Week Except Sunday, Saturday                   0  \n",
       "\n",
       "[36710 rows x 13 columns]"
      ]
     },
     "execution_count": 99,
     "metadata": {},
     "output_type": "execute_result"
    }
   ],
   "source": [
    "df_filtered"
   ]
  },
  {
   "cell_type": "code",
   "execution_count": 100,
   "id": "025e109b",
   "metadata": {},
   "outputs": [],
   "source": [
    "df_filtered.to_csv('explored_data.csv', index=False)"
   ]
  }
 ],
 "metadata": {
  "kernelspec": {
   "display_name": "Python 3 (ipykernel)",
   "language": "python",
   "name": "python3"
  },
  "language_info": {
   "codemirror_mode": {
    "name": "ipython",
    "version": 3
   },
   "file_extension": ".py",
   "mimetype": "text/x-python",
   "name": "python",
   "nbconvert_exporter": "python",
   "pygments_lexer": "ipython3",
   "version": "3.11.0"
  }
 },
 "nbformat": 4,
 "nbformat_minor": 5
}
